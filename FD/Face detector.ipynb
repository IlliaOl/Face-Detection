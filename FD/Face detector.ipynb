{
 "cells": [
  {
   "cell_type": "code",
   "execution_count": 1,
   "id": "introductory-leone",
   "metadata": {
    "scrolled": true
   },
   "outputs": [],
   "source": [
    "import os\n",
    "import csv\n",
    "import pandas\n",
    "import random\n",
    "import numpy as np\n",
    "from PIL import Image, ImageOps\n",
    "import tensorflow as tf\n",
    "from tensorflow import keras\n",
    "from tensorflow.keras import layers\n",
    "from sklearn.metrics import accuracy_score\n",
    "from sklearn.model_selection import train_test_split\n",
    "\n",
    "tf.random.set_seed(42)"
   ]
  },
  {
   "cell_type": "markdown",
   "id": "korean-norwegian",
   "metadata": {},
   "source": [
    "Create dataset with raw images"
   ]
  },
  {
   "cell_type": "code",
   "execution_count": 2,
   "id": "welsh-waste",
   "metadata": {},
   "outputs": [],
   "source": [
    "f = open('datasets/face_non_face.csv', 'w')\n",
    "\n",
    "writer = csv.writer(f)\n",
    "\n",
    "for image_file_name in os.listdir('D:\\\\ML\\\\Projects\\\\FD\\\\datasets\\\\jpg_images\\\\non-person\\\\'):\n",
    "        im = Image.open('D:\\\\ML\\\\Projects\\\\FD\\\\datasets\\\\jpg_images\\\\non-person\\\\'+image_file_name)\n",
    "        im = ImageOps.grayscale(im)\n",
    "        new_width  = 28\n",
    "        new_height = 28\n",
    "        im = im.resize((new_width, new_height), Image.ANTIALIAS)\n",
    "        pix = np.array(im)\n",
    "        pix.ravel()\n",
    "        pix = np.append(pix, 0)\n",
    "        \n",
    "        writer.writerow(pix)\n",
    "\n",
    "f.close()"
   ]
  },
  {
   "cell_type": "code",
   "execution_count": 3,
   "id": "proof-plate",
   "metadata": {},
   "outputs": [],
   "source": [
    "f = open('datasets/face_non_face.csv', 'a')\n",
    "\n",
    "writer = csv.writer(f)\n",
    "\n",
    "for image_file_name in os.listdir('D:\\\\ML\\\\Projects\\\\FD\\\\datasets\\\\jpg_images\\\\person\\\\'):\n",
    "        im = Image.open('D:\\\\ML\\\\Projects\\\\FD\\\\datasets\\\\jpg_images\\\\person\\\\'+image_file_name)\n",
    "        im = ImageOps.grayscale(im)\n",
    "        new_width  = 28\n",
    "        new_height = 28\n",
    "        im = im.resize((new_width, new_height), Image.ANTIALIAS)\n",
    "        pix = np.array(im)\n",
    "        pix.ravel()\n",
    "        pix = np.append(pix, 1)\n",
    "        \n",
    "        writer.writerow(pix)\n",
    "\n",
    "f.close()"
   ]
  },
  {
   "cell_type": "code",
   "execution_count": 4,
   "id": "surgical-visitor",
   "metadata": {},
   "outputs": [],
   "source": [
    "# shuffle dataset\n",
    "df = pandas.read_csv('datasets/face_non_face.csv', header=None)\n",
    "ds = df.sample(frac=1)\n",
    "ds.to_csv('datasets/data_shuffled.csv')"
   ]
  },
  {
   "cell_type": "code",
   "execution_count": 5,
   "id": "documented-blackjack",
   "metadata": {},
   "outputs": [
    {
     "data": {
      "text/plain": [
       "(7784, 785)"
      ]
     },
     "execution_count": 5,
     "metadata": {},
     "output_type": "execute_result"
    }
   ],
   "source": [
    "# load dataset\n",
    "dataset = pandas.read_csv('datasets/data_shuffled.csv', header=None)[1:]\n",
    "del(dataset[0])\n",
    "dataset.shape"
   ]
  },
  {
   "cell_type": "markdown",
   "id": "e54fab86",
   "metadata": {},
   "source": [
    "Train LeNet using Tensorflow"
   ]
  },
  {
   "cell_type": "code",
   "execution_count": 6,
   "id": "f4f646df",
   "metadata": {},
   "outputs": [],
   "source": [
    "dataset, target = dataset.iloc[:, 0:-1], dataset.iloc[:,-1]\n",
    "X_train, X_test, y_train, y_test = train_test_split(dataset, target, test_size=0.2, random_state=42)\n",
    "X_train, X_test, y_train, y_test = np.array(X_train).reshape((X_train.shape[0], 28, 28, 1)), np.array(X_test).reshape((X_test.shape[0], 28, 28, 1)), np.array(y_train), np.array(y_test)"
   ]
  },
  {
   "cell_type": "code",
   "execution_count": 7,
   "id": "f57ac40a",
   "metadata": {},
   "outputs": [],
   "source": [
    "def LeNet(shape=(28, 28, 1)):\n",
    "    model = keras.Sequential() # initialize model\n",
    "    \n",
    "    model.add(layers.Conv2D(20, (5, 5), padding=\"same\", activation='relu', input_shape=shape))\n",
    "    model.add(layers.MaxPooling2D((2,2), strides=2))\n",
    "    \n",
    "    model.add(layers.Conv2D(50, (5, 5), padding=\"same\", activation='relu'))\n",
    "    model.add(layers.MaxPooling2D((2,2), strides=2))\n",
    "    \n",
    "    model.add(layers.Conv2D(64, (3, 3), activation='relu'))\n",
    "    model.add(layers.MaxPooling2D((2,2)))\n",
    "    \n",
    "    model.add(layers.Flatten())\n",
    "    model.add(layers.Dense(500, activation=\"relu\"))\n",
    "    \n",
    "    model.add(layers.Dense(1000, activation=\"relu\"))\n",
    "    \n",
    "    model.add(layers.Dense(1500, activation=\"relu\"))\n",
    "    \n",
    "    model.add(layers.Dense(1, activation=\"sigmoid\"))\n",
    "    \n",
    "    model.compile(optimizer='adam', loss='binary_crossentropy', metrics=['accuracy']) # compile model\n",
    "    \n",
    "    return model"
   ]
  },
  {
   "cell_type": "code",
   "execution_count": 8,
   "id": "fae5d1d1",
   "metadata": {},
   "outputs": [
    {
     "name": "stdout",
     "output_type": "stream",
     "text": [
      "Train on 7005 samples\n",
      "7005/7005 [==============================] - 61s 9ms/sample - loss: 1.0035 - accuracy: 0.6985\n"
     ]
    },
    {
     "data": {
      "text/plain": [
       "0.7830552"
      ]
     },
     "execution_count": 8,
     "metadata": {},
     "output_type": "execute_result"
    }
   ],
   "source": [
    "compiled_model = LeNet()\n",
    "compiled_model.fit(X_train, y_train)\n",
    "loss, acc = compiled_model.evaluate(X_test, y_test, verbose=0)\n",
    "acc"
   ]
  },
  {
    "cell_type": "code",
    "execution_count": 10,
    "id": "97e283a1",
    "metadata": {},
    "outputs": [
     {
      "name": "stdout",
      "output_type": "stream",
      "text": [
       "WARNING:tensorflow:From d:\\ml\\env\\lib\\site-packages\\tensorflow_core\\python\\ops\\resource_variable_ops.py:1781: calling BaseResourceVariable.__init__ (from tensorflow.python.ops.resource_variable_ops) with constraint is deprecated and will be removed in a future version.\n",
       "Instructions for updating:\n",
       "If using Keras pass *_constraint arguments to layers.\n",
       "INFO:tensorflow:Assets written to: fd_model\\assets\n"
      ]
     }
   }
   ],
   "source": [
    "# save model\n",
    "compiled_model.save('fd_model')"
   ]
  }
 ],
 "metadata": {
  "kernelspec": {
   "display_name": "Python 3 (ipykernel)",
   "language": "python",
   "name": "python3"
  },
  "language_info": {
   "codemirror_mode": {
    "name": "ipython",
    "version": 3
   },
   "file_extension": ".py",
   "mimetype": "text/x-python",
   "name": "python",
   "nbconvert_exporter": "python",
   "pygments_lexer": "ipython3",
   "version": "3.7.5"
  }
 },
 "nbformat": 4,
 "nbformat_minor": 5
}
