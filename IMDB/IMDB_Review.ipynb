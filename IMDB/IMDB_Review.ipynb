{
  "cells": [
    {
      "cell_type": "code",
      "execution_count": null,
      "id": "380176ea",
      "metadata": {
        "id": "380176ea"
      },
      "outputs": [],
      "source": [
        "import numpy as np\n",
        "import pandas as pd\n",
        "import tensorflow as tf\n",
        "from tensorflow import keras\n",
        "from sklearn.model_selection import train_test_split\n",
        "import re"
      ]
    },
    {
      "cell_type": "code",
      "execution_count": null,
      "id": "d18f73aa",
      "metadata": {
        "id": "d18f73aa"
      },
      "outputs": [],
      "source": [
        "df = pd.read_csv(\"data/IMDB_Dataset.csv\")\n",
        "mask = (df['review'].str.len() < 400)\n",
        "df = df.loc[mask]\n",
        "df['review'] = df['review'].fillna('')\n",
        "features = df[\"review\"]\n",
        "labels = df[\"sentiment\"]\n",
        "labels = np.where(labels == \"positive\", 1, 0)\n",
        "X_train, X_test, y_train, y_test = train_test_split(features, labels, test_size=0.2)\n",
        "X_train, X_valid, y_train, y_valid = train_test_split(X_train, y_train, test_size=0.25)"
      ]
    },
    {
      "cell_type": "code",
      "execution_count": null,
      "id": "4591ba77",
      "metadata": {
        "id": "4591ba77"
      },
      "outputs": [],
      "source": [
        "def max_len_vocab(data):\n",
        "    max_len = 0\n",
        "    vocab = set()\n",
        "    for i in data:\n",
        "        if type(i) != type(''):\n",
        "            continue\n",
        "        if len(i) > max_len:\n",
        "            max_len = len(i)\n",
        "        alpha = re.findall(r'[A-Za-z]*', i.lower())\n",
        "        for j in alpha:\n",
        "            vocab.add(j)\n",
        "    vocab.remove('')\n",
        "    return max_len, list(vocab)\n",
        "\n",
        "max_len, vocab = max_len_vocab(features)"
      ]
    },
    {
      "cell_type": "code",
      "execution_count": null,
      "id": "905d027f",
      "metadata": {
        "id": "905d027f"
      },
      "outputs": [],
      "source": [
        "def Review_model():\n",
        "    reviews = keras.layers.Input(shape=(1,), dtype=\"string\")\n",
        "    vectorization = keras.layers.TextVectorization(max_tokens=len(vocab)+2, output_mode='int',\n",
        "                                         output_sequence_length=max_len, vocabulary=vocab)(reviews)\n",
        "    embedding_layer = keras.layers.Embedding(len(vocab)+2, 10)(vectorization)\n",
        "    lstm = keras.layers.Bidirectional(keras.layers.LSTM(128))(embedding_layer)\n",
        "    classifier = keras.layers.Dense(32, activation='relu')(lstm) \n",
        "    output = keras.layers.Dense(1, activation='sigmoid')(classifier) \n",
        "    model = keras.Model(inputs=reviews, outputs=output)\n",
        "    model.compile(optimizer=keras.optimizers.Adam(), loss=keras.losses.BinaryCrossentropy(), metrics='accuracy')\n",
        "    return model"
      ]
    },
    {
      "cell_type": "code",
      "execution_count": null,
      "id": "d8abf8f1",
      "metadata": {
        "id": "d8abf8f1",
        "outputId": "aa1968d4-8515-45e4-cd40-8bfd9b6a2783"
      },
      "outputs": [
        {
          "name": "stdout",
          "output_type": "stream",
          "text": [
            "Epoch 1/10\n",
            "32/32 [==============================] - 159s 5s/step - loss: 0.6859 - accuracy: 0.5496\n",
            "Epoch 2/10\n",
            "32/32 [==============================] - 196s 6s/step - loss: 0.7499 - accuracy: 0.5919\n",
            "Epoch 3/10\n",
            "32/32 [==============================] - 242s 8s/step - loss: 0.6349 - accuracy: 0.7240\n",
            "Epoch 4/10\n",
            "32/32 [==============================] - 216s 7s/step - loss: 0.5339 - accuracy: 0.7952\n",
            "Epoch 5/10\n",
            "32/32 [==============================] - 201s 6s/step - loss: 0.3990 - accuracy: 0.8670\n",
            "Epoch 6/10\n",
            "32/32 [==============================] - 174s 5s/step - loss: 0.2623 - accuracy: 0.9238\n",
            "Epoch 7/10\n",
            "32/32 [==============================] - 170s 5s/step - loss: 0.1673 - accuracy: 0.9487\n",
            "Epoch 8/10\n",
            "32/32 [==============================] - 148s 5s/step - loss: 0.0902 - accuracy: 0.9821\n",
            "Epoch 9/10\n",
            "32/32 [==============================] - 145s 5s/step - loss: 0.0449 - accuracy: 0.9920\n",
            "Epoch 10/10\n",
            "32/32 [==============================] - 165s 5s/step - loss: 0.0225 - accuracy: 0.9985\n"
          ]
        },
        {
          "data": {
            "text/plain": [
              "<keras.callbacks.History at 0x1f696aa06c8>"
            ]
          },
          "execution_count": 21,
          "metadata": {},
          "output_type": "execute_result"
        }
      ],
      "source": [
        "model = Review_model()\n",
        "model.fit(X_train, y_train, batch_size=64, epochs=10)"
      ]
    },
    {
      "cell_type": "code",
      "execution_count": null,
      "id": "53a0f294",
      "metadata": {
        "id": "53a0f294",
        "outputId": "809247fe-cbd3-46e9-9915-ca860451289a"
      },
      "outputs": [
        {
          "name": "stdout",
          "output_type": "stream",
          "text": [
            "21/21 [==============================] - 6s 289ms/step - loss: 1.1809 - accuracy: 0.6179\n"
          ]
        },
        {
          "data": {
            "text/plain": [
              "0.6179104447364807"
            ]
          },
          "execution_count": 23,
          "metadata": {},
          "output_type": "execute_result"
        }
      ],
      "source": [
        "loss, acc = model.evaluate(X_test, y_test)\n",
        "acc"
      ]
    },
    {
      "cell_type": "code",
      "execution_count": null,
      "id": "766bddf9",
      "metadata": {
        "id": "766bddf9",
        "outputId": "fc258100-ca2b-4223-ffff-60c61bf4fbc0"
      },
      "outputs": [
        {
          "name": "stderr",
          "output_type": "stream",
          "text": [
            "WARNING:absl:Found untraced functions such as lstm_cell_7_layer_call_and_return_conditional_losses, lstm_cell_7_layer_call_fn, lstm_cell_8_layer_call_and_return_conditional_losses, lstm_cell_8_layer_call_fn, lstm_cell_7_layer_call_fn while saving (showing 5 of 10). These functions will not be directly callable after loading.\n"
          ]
        },
        {
          "name": "stdout",
          "output_type": "stream",
          "text": [
            "INFO:tensorflow:Assets written to: IMDB_model\\assets\n"
          ]
        },
        {
          "name": "stderr",
          "output_type": "stream",
          "text": [
            "INFO:tensorflow:Assets written to: IMDB_model\\assets\n"
          ]
        }
      ],
      "source": [
        "model.save('IMDB_model')"
      ]
    },
    {
      "cell_type": "code",
      "execution_count": null,
      "id": "a0d4131a",
      "metadata": {
        "id": "a0d4131a"
      },
      "outputs": [],
      "source": [
        ""
      ]
    }
  ],
  "metadata": {
    "kernelspec": {
      "display_name": "Python 3 (ipykernel)",
      "language": "python",
      "name": "python3"
    },
    "language_info": {
      "codemirror_mode": {
        "name": "ipython",
        "version": 3
      },
      "file_extension": ".py",
      "mimetype": "text/x-python",
      "name": "python",
      "nbconvert_exporter": "python",
      "pygments_lexer": "ipython3",
      "version": "3.7.5"
    },
    "colab": {
      "name": "IMDB Review.ipynb",
      "provenance": []
    }
  },
  "nbformat": 4,
  "nbformat_minor": 5
}