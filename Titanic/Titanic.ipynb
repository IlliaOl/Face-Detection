{
 "cells": [
  {
   "cell_type": "code",
   "execution_count": 1,
   "id": "macro-contribution",
   "metadata": {},
   "outputs": [],
   "source": [
    "import pandas\n",
    "import numpy as np\n",
    "from sklearn.model_selection import train_test_split\n",
    "from sklearn.model_selection import GridSearchCV\n",
    "from sklearn.ensemble import RandomForestClassifier\n",
    "from sklearn.ensemble import ExtraTreesClassifier\n",
    "from sklearn.ensemble import VotingClassifier\n",
    "from sklearn.ensemble import AdaBoostClassifier\n",
    "from sklearn.ensemble import GradientBoostingClassifier\n",
    "from sklearn.tree import DecisionTreeClassifier\n",
    "from sklearn.metrics import accuracy_score\n",
    "from sklearn.svm import SVC\n",
    "\n",
    "import warnings\n",
    "warnings.filterwarnings('ignore') # turn off warnings"
   ]
  },
  {
   "cell_type": "markdown",
   "id": "vocal-binary",
   "metadata": {},
   "source": [
    "Download dataset and split to train and test sets"
   ]
  },
  {
   "cell_type": "code",
   "execution_count": 2,
   "id": "caroline-springfield",
   "metadata": {},
   "outputs": [],
   "source": [
    "dataset = pandas.read_csv(\"datasets/Titanic_train.csv\")\n",
    "eval_set = pandas.read_csv(\"datasets/Titanic_test.csv\") # set without target values\n",
    "dataset, target = dataset.drop(\"Survived\", axis=1), dataset['Survived'].copy()\n",
    "X_train, X_test, y_train, y_test = train_test_split(dataset, target, test_size=0.2, random_state=42)"
   ]
  },
  {
   "cell_type": "markdown",
   "id": "general-flavor",
   "metadata": {},
   "source": [
    "Modify data"
   ]
  },
  {
   "cell_type": "code",
   "execution_count": 3,
   "id": "occasional-mechanics",
   "metadata": {},
   "outputs": [
    {
     "data": {
      "text/html": [
       "<div>\n",
       "<style scoped>\n",
       "    .dataframe tbody tr th:only-of-type {\n",
       "        vertical-align: middle;\n",
       "    }\n",
       "\n",
       "    .dataframe tbody tr th {\n",
       "        vertical-align: top;\n",
       "    }\n",
       "\n",
       "    .dataframe thead th {\n",
       "        text-align: right;\n",
       "    }\n",
       "</style>\n",
       "<table border=\"1\" class=\"dataframe\">\n",
       "  <thead>\n",
       "    <tr style=\"text-align: right;\">\n",
       "      <th></th>\n",
       "      <th>Pclass</th>\n",
       "      <th>Sex</th>\n",
       "      <th>Age</th>\n",
       "      <th>Parch</th>\n",
       "      <th>Fare</th>\n",
       "      <th>Embarked</th>\n",
       "      <th>Has_cabin</th>\n",
       "      <th>Name_length</th>\n",
       "    </tr>\n",
       "  </thead>\n",
       "  <tbody>\n",
       "    <tr>\n",
       "      <th>331</th>\n",
       "      <td>1</td>\n",
       "      <td>1</td>\n",
       "      <td>45.5</td>\n",
       "      <td>0</td>\n",
       "      <td>28.5000</td>\n",
       "      <td>0</td>\n",
       "      <td>1</td>\n",
       "      <td>19</td>\n",
       "    </tr>\n",
       "    <tr>\n",
       "      <th>733</th>\n",
       "      <td>2</td>\n",
       "      <td>1</td>\n",
       "      <td>23.0</td>\n",
       "      <td>0</td>\n",
       "      <td>13.0000</td>\n",
       "      <td>0</td>\n",
       "      <td>0</td>\n",
       "      <td>26</td>\n",
       "    </tr>\n",
       "    <tr>\n",
       "      <th>382</th>\n",
       "      <td>3</td>\n",
       "      <td>1</td>\n",
       "      <td>32.0</td>\n",
       "      <td>0</td>\n",
       "      <td>7.9250</td>\n",
       "      <td>0</td>\n",
       "      <td>0</td>\n",
       "      <td>18</td>\n",
       "    </tr>\n",
       "    <tr>\n",
       "      <th>704</th>\n",
       "      <td>3</td>\n",
       "      <td>1</td>\n",
       "      <td>26.0</td>\n",
       "      <td>0</td>\n",
       "      <td>7.8542</td>\n",
       "      <td>0</td>\n",
       "      <td>0</td>\n",
       "      <td>23</td>\n",
       "    </tr>\n",
       "    <tr>\n",
       "      <th>813</th>\n",
       "      <td>3</td>\n",
       "      <td>0</td>\n",
       "      <td>6.0</td>\n",
       "      <td>2</td>\n",
       "      <td>31.2750</td>\n",
       "      <td>0</td>\n",
       "      <td>0</td>\n",
       "      <td>34</td>\n",
       "    </tr>\n",
       "  </tbody>\n",
       "</table>\n",
       "</div>"
      ],
      "text/plain": [
       "     Pclass  Sex   Age  Parch     Fare  Embarked  Has_cabin  Name_length\n",
       "331       1    1  45.5      0  28.5000         0          1           19\n",
       "733       2    1  23.0      0  13.0000         0          0           26\n",
       "382       3    1  32.0      0   7.9250         0          0           18\n",
       "704       3    1  26.0      0   7.8542         0          0           23\n",
       "813       3    0   6.0      2  31.2750         0          0           34"
      ]
     },
     "execution_count": 3,
     "metadata": {},
     "output_type": "execute_result"
    }
   ],
   "source": [
    "def data_preparation(X):\n",
    "    X[\"Has_cabin\"] = X[\"Cabin\"].apply(lambda x: 1 if type(x) == str else 0)\n",
    "    X['Embarked'] = X['Embarked'].fillna('S')\n",
    "    X['Fare'] = X['Fare'].fillna(X['Fare'].median())\n",
    "    X['Age'] = X['Age'].fillna(X['Age'].median())\n",
    "    X[\"Sex\"] = X[\"Sex\"].apply(lambda x: 1 if x == \"male\" else 0)\n",
    "    X[\"Name_length\"] = X[\"Name\"].apply(len)\n",
    "    X['Embarked'] = X['Embarked'].map( {'S': 0, 'C': 1, 'Q': 2} ).astype(int)\n",
    "    \n",
    "    drop_elements = ['PassengerId', 'Name', 'Ticket', 'Cabin', 'SibSp']\n",
    "    X = X.drop(drop_elements, axis = 1)\n",
    "        \n",
    "    return X\n",
    "\n",
    "X_train = data_preparation(X_train.copy())\n",
    "X_test = data_preparation(X_test.copy())\n",
    "\n",
    "X_train.head()"
   ]
  },
  {
   "cell_type": "markdown",
   "id": "subsequent-alcohol",
   "metadata": {},
   "source": [
    "Function, that returns a list of models"
   ]
  },
  {
   "cell_type": "code",
   "execution_count": 4,
   "id": "defensive-graph",
   "metadata": {},
   "outputs": [],
   "source": [
    "def models_list():\n",
    "    rf = RandomForestClassifier(n_estimators=1000, max_leaf_nodes=16, n_jobs=-1, random_state=42)\n",
    "    ex_tree = ExtraTreesClassifier(random_state=42)\n",
    "    svc = SVC(probability=True)\n",
    "    ada = AdaBoostClassifier(DecisionTreeClassifier(max_depth=1), learning_rate=0.5)\n",
    "    gboost = GradientBoostingClassifier(max_depth=2, n_estimators=3)\n",
    "    \n",
    "    return [(\"rf\", rf), (\"ex_tree\", ex_tree), (\"svc\", svc), (\"ada\", ada), (\"gboost\", gboost)]"
   ]
  },
  {
   "cell_type": "markdown",
   "id": "tribal-crest",
   "metadata": {},
   "source": [
    "Using soft voting classifier and grid_search"
   ]
  },
  {
   "cell_type": "code",
   "execution_count": 5,
   "id": "static-opportunity",
   "metadata": {},
   "outputs": [
    {
     "data": {
      "text/plain": [
       "0.8324022346368715"
      ]
     },
     "execution_count": 5,
     "metadata": {},
     "output_type": "execute_result"
    }
   ],
   "source": [
    "voting_clf = VotingClassifier(estimators=models_list(), voting='soft')\n",
    "voting_clf.fit(X_train, y_train)\n",
    "y_pred = voting_clf.predict(X_test)\n",
    "\n",
    "accuracy_score(y_test, y_pred)"
   ]
  },
  {
   "cell_type": "markdown",
   "id": "least-removal",
   "metadata": {},
   "source": [
    "Run model on test set and save to csv file"
   ]
  },
  {
   "cell_type": "code",
   "execution_count": 6,
   "id": "flexible-grain",
   "metadata": {},
   "outputs": [],
   "source": [
    "eval_set_modified = data_preparation(eval_set.copy())\n",
    "y_pred = voting_clf.predict(eval_set_modified)"
   ]
  },
  {
   "cell_type": "code",
   "execution_count": 8,
   "id": "falling-certificate",
   "metadata": {},
   "outputs": [],
   "source": [
    "import csv\n",
    "\n",
    "f = open('datasets/submit.csv', 'w')\n",
    "\n",
    "writer = csv.writer(f)\n",
    "\n",
    "writer.writerow([\"PassengerId\", \"Survived\"])\n",
    "\n",
    "for i, j in zip(list(eval_set['PassengerId']), list(y_pred)):\n",
    "    writer.writerow([i, j])\n",
    "\n",
    "f.close()"
   ]
  },
  {
   "cell_type": "code",
   "execution_count": null,
   "id": "democratic-accent",
   "metadata": {},
   "outputs": [],
   "source": []
  }
 ],
 "metadata": {
  "kernelspec": {
   "display_name": "Python 3 (ipykernel)",
   "language": "python",
   "name": "python3"
  },
  "language_info": {
   "codemirror_mode": {
    "name": "ipython",
    "version": 3
   },
   "file_extension": ".py",
   "mimetype": "text/x-python",
   "name": "python",
   "nbconvert_exporter": "python",
   "pygments_lexer": "ipython3",
   "version": "3.7.5"
  }
 },
 "nbformat": 4,
 "nbformat_minor": 5
}
